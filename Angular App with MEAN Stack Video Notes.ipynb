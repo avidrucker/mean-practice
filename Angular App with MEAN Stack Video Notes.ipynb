{
 "cells": [
  {
   "cell_type": "markdown",
   "metadata": {},
   "source": [
    "# Build an Angular App w/ the MEAN Stack [video link](https://www.youtube.com/watch?v=1tRLveSyNz8)"
   ]
  },
  {
   "cell_type": "markdown",
   "metadata": {},
   "source": [
    "## Table of Contents\n",
    "\n",
    "**Getting Started**\n",
    "- [01 - Introduction 0:42](https://youtu.be/1tRLveSyNz8?t=42)\n",
    "- [02 - What is MEAN? 2:44](https://youtu.be/1tRLveSyNz8?t=164)\n",
    "- [03 - What is a Single Page Application (SPA)? 13:24](https://youtu.be/1tRLveSyNz8?t=804)\n",
    "- [04 - How does the MEAN stack work? 15:39](https://youtu.be/1tRLveSyNz8?t=939)\n",
    "- [05 - Installing Node & the Angular CLI 18:40](https://youtu.be/1tRLveSyNz8?t=1120)\n",
    "- [06 - Installing our IDE 26:34](https://youtu.be/1tRLveSyNz8?t=1594)\n",
    "- [07 - Exploring the Project Structure 29:53](https://youtu.be/1tRLveSyNz8?t=1793)\n",
    "- [08 - Course Outline 34:01](https://youtu.be/1tRLveSyNz8?t=2041)\n",
    "- [09 - How to get the most out of this course 37:32](https://youtu.be/1tRLveSyNz8?t=2252)\n",
    "\n",
    "**The Angular Frontend**\n",
    "- [10 - Module Introduction \"Building an Angular Frontend\" 40:30](https://youtu.be/1tRLveSyNz8?t=2430)\n",
    "- [11 - Understanding the Folder Structure 42:15](https://youtu.be/1tRLveSyNz8?t=2535)\n",
    "- [12 - Understanding Angular Components 48:59](https://youtu.be/1tRLveSyNz8?t=2939)\n",
    "- [13 - Adding our First Component 51:43](https://youtu.be/1tRLveSyNz8?t=3103)\n",
    "- [14 - Listening to Events 59:48](https://youtu.be/1tRLveSyNz8?t=3588)\n",
    "- [15 - Outputting Content 1:03:36](https://youtu.be/1tRLveSyNz8?t=3816)\n",
    "- [16 - Getting User Input 1:09:15](https://youtu.be/1tRLveSyNz8?t=4155)\n",
    "- [17 - Installing Angular Material 1:15:23](https://youtu.be/1tRLveSyNz8?t=4523)\n",
    "- [18 - Adding a Toolbar 1:27:44](https://youtu.be/1tRLveSyNz8?t=5264)\n",
    "- [19 - Outputting Posts 1:31:46](https://youtu.be/1tRLveSyNz8?t=5506)\n",
    "- [20 - Diving Intro Structural Directives 1:38:29](https://youtu.be/1tRLveSyNz8?t=5909)\n",
    "- [21 - Creating Posts with Property & Event Binding 1:44:13](https://youtu.be/1tRLveSyNz8?t=6253)\n",
    "- [22 - Create a Post Model 1:57:57](https://youtu.be/1tRLveSyNz8?t=6717)\n",
    "- [23 - Adding Forms 1:56:36](https://youtu.be/1tRLveSyNz8?t=6996)\n",
    "- [24 - Getting Posts from Post-Create to Post-List 2:04:59](https://youtu.be/1tRLveSyNz8?t=7499)\n",
    "- [25 - Calling GET Post 2:14:29](https://youtu.be/1tRLveSyNz8?t=8069)\n",
    "- [26 - More About Observables 2:25:51](https://youtu.be/1tRLveSyNz8?t=8751)\n",
    "- [27 - Working on our Form 2:31:46](https://youtu.be/1tRLveSyNz8?t=9106)\n",
    "\n",
    "**Adding NodeJS to our Project**\n",
    "31. Module Introduction\n",
    "32. Connecting Node & Angular - Theory\n",
    "    - note: there are two ways of connecting Node & Angular\n",
    "        1. Node app serves Angular SPA\n",
    "            - node (express) handles incoming requests\n",
    "            - requests targeting \"/\" path returns Angular SPA\n",
    "        2. Two separate servers\n",
    "            - node (express) handles incoming requests\n",
    "            - Angular SPA served from separate static host (doesn't need to be a Node server)\n",
    "    - note: these two methods really only differ at the deployment stage of development\n",
    "    - note: regardless of the method, we will have logically separated apps\n",
    "    \n",
    "33. What is a RESTful API?\n",
    "    - note: REST stands for Representation State Transfer.\n",
    "    - note: a RESTful API is a server side solution/solution/app\n",
    "    - note: RESTful APIs are \"stateless backends\"\n",
    "    - note: RESTful APIs rely on requests to work, and are all \"http verbs\" such as get, post, delete, patch, put.\n",
    "    - note: for example, a post request could be made to the backend database to add a new user account.\n",
    "    - note: JSON data is the preferred format to work with here, though we could be using HTML, XML, or something else entirely.\n"
   ]
  },
  {
   "cell_type": "markdown",
   "metadata": {},
   "source": [
    "34. Adding the Node Backend\n",
    "    1. dev creates `server.js` in root folder of app project\n",
    "    - dev adds some code to this new file: `console.log('Hello!')`\n",
    "    - dev uses a new terminal window to start the server with the terminal command `node server.js`\n",
    "    - note: imports in node look different than imports in angular\n",
    "    - dev replaces the `console.log()` code with the following import statement:\n",
    "    ```js\n",
    "    const http = require('http');\n",
    "    ```\n",
    "    - note: http is a default NodeJS package included with the NodeJS installation.\n",
    "    - note: we can use the http package to create a new server with its create server method\n",
    "    - dev adds the following code to `server.js`:\n",
    "    ```js\n",
    "    //req == request, res == response\n",
    "    const server = http.createServer((req, res) => {\n",
    "        res.end('This is my first response.');\n",
    "    });\n",
    "    server.listen(porcess.env.PORT || 3000);\n",
    "    ```\n",
    "    - note: this Node server will now, upon being run, deliver a page."
   ]
  },
  {
   "cell_type": "markdown",
   "metadata": {},
   "source": [
    "35. Adding the Express Framework\n",
    "    1. dev installs express in a new terminal window like so: `npm install --save express`\n",
    "    - dev will add `app.js` file to `backend` folder in the root of the project\n",
    "    - dev writes the following line of code in `app.js`:\n",
    "    ```js\n",
    "    const express = require('express');\n",
    "\n",
    "    const app = express();\n",
    "    ```\n",
    "    - dev adds the following code below `const app = express();`:\n",
    "    ```js\n",
    "    app.use((req, res, next)=>{\n",
    "        console.log('First middleware!')\n",
    "        next(); // this is absolutely necessary here! try commenting it out to see what happens\n",
    "    });\n",
    "\n",
    "    app.use((req, res, next)=>{\n",
    "        res.send('Hello from express!');\n",
    "    });\n",
    "\n",
    "    module.exports = app; // this will export the app along with all the associated middlewares\n",
    "    ```\n",
    "    - dev imports the new express app in the file `server.js`, modifying it to be like so:\n",
    "    ```js\n",
    "    const http = require('http');\n",
    "    const app = require('./backend/app');\n",
    "    \n",
    "    const port = process.env.PORT || 3000;\n",
    "    app.set('port', port);\n",
    "    const server = http.createServer(app); // use app as a listener for incoming requests\n",
    "\n",
    "    server.listen(port);\n",
    "    ```\n",
    "    - dev reloads from the terminal the node server with `node server.js` to confirm that the app has been updated correctly.\n",
    "    "
   ]
  },
  {
   "cell_type": "markdown",
   "metadata": {},
   "source": [
    "36. Improving the server.js Code\n",
    "    - dev updates `server.js` file with the following code:\n",
    "    ```js\n",
    "    const app = require(\"./backend/app\");\n",
    "    const http = require(\"http\");\n",
    "    \n",
    "    // makes sure that port numbers are valid\n",
    "    const normalizePort = val => {\n",
    "        var port = parseInt(val, 10);\n",
    "        \n",
    "        if (isNaN(port)) {\n",
    "            // named pipe\n",
    "            return val;\n",
    "        }\n",
    "        if (port >= 0) {\n",
    "            // port number\n",
    "            return port;\n",
    "        }\n",
    "        return false;\n",
    "    };\n",
    "\n",
    "    const onError = error => {\n",
    "        if (error.svscall !== \"listen\") {\n",
    "            throw error;\n",
    "        }\n",
    "        const bind = typeof addr === \"string\" ? \"pipe \" + addr : \"port \" + port;\n",
    "        switch (error.code) {\n",
    "            case \"EACCES\":\n",
    "                console.error(bind + \" requires elevated priviledges\");\n",
    "                process.exit(1);\n",
    "                break;\n",
    "            case \"EADDRINUSE\":\n",
    "                console.error(bind + \" is already in use\");\n",
    "                porcess.exit(1);\n",
    "                break;\n",
    "            default:\n",
    "                throw error;\n",
    "        } \n",
    "    };\n",
    "    \n",
    "    const onListening = () => {\n",
    "        const addr = server.address();\n",
    "        const bind = typeof addr === \"string\" ? \"pipe \" + addr : \"port \" + port;\n",
    "        debug(\"Listening on \" + bind);\n",
    "    };\n",
    "    \n",
    "    const port = normalizePort(process.env.PORT || \"3000\");\n",
    "    app.set(\"port\", port);\n",
    "    \n",
    "    const server = http.createServer(app);\n",
    "    server.on(\"error\", onError);\n",
    "    server.on(\"listening\", onListening);\n",
    "    server.listen(port);\n",
    "    ```"
   ]
  },
  {
   "cell_type": "markdown",
   "metadata": {},
   "source": [
    "37. Fetching Initial Posts"
   ]
  },
  {
   "cell_type": "markdown",
   "metadata": {},
   "source": [
    "[18 - Adding a Toolbar 1:27:44](https://youtu.be/1tRLveSyNz8?t=5264)\n"
   ]
  },
  {
   "cell_type": "markdown",
   "metadata": {},
   "source": [
    "[19 - Outputting Posts 1:31:46](https://youtu.be/1tRLveSyNz8?t=5506)\n"
   ]
  },
  {
   "cell_type": "markdown",
   "metadata": {},
   "source": [
    "[20 - Diving Intro Structural Directives 1:38:29](https://youtu.be/1tRLveSyNz8?t=5909)\n"
   ]
  },
  {
   "cell_type": "markdown",
   "metadata": {},
   "source": [
    "[21 - Creating Posts with Property & Event Binding 1:44:13](https://youtu.be/1tRLveSyNz8?t=6253)\n"
   ]
  },
  {
   "cell_type": "markdown",
   "metadata": {},
   "source": [
    "[22 - Create a Post Model 1:57:57](https://youtu.be/1tRLveSyNz8?t=6717)\n"
   ]
  },
  {
   "cell_type": "markdown",
   "metadata": {},
   "source": [
    "[23 - Adding Forms 1:56:36](https://youtu.be/1tRLveSyNz8?t=6996)\n"
   ]
  },
  {
   "cell_type": "markdown",
   "metadata": {},
   "source": [
    "[24 - Getting Posts from Post-Create to Post-List 2:04:59](https://youtu.be/1tRLveSyNz8?t=7499)\n"
   ]
  },
  {
   "cell_type": "markdown",
   "metadata": {},
   "source": [
    "[25 - Calling GET Post 2:14:29](https://youtu.be/1tRLveSyNz8?t=8069)\n"
   ]
  },
  {
   "cell_type": "markdown",
   "metadata": {},
   "source": [
    "[26 - More About Observables 2:25:51](https://youtu.be/1tRLveSyNz8?t=8751)\n"
   ]
  },
  {
   "cell_type": "markdown",
   "metadata": {},
   "source": [
    "[27 - Working on our Form 2:31:46](https://youtu.be/1tRLveSyNz8?t=9106)\n"
   ]
  },
  {
   "cell_type": "markdown",
   "metadata": {},
   "source": [
    "### Links\n",
    "\n",
    "- NodeJS: https://nodejs.org/en/\n",
    "- Angular CLI: https://cli.angular.io/\n",
    "- Visual Studio Code: https://code.visualstudio.com/"
   ]
  },
  {
   "cell_type": "markdown",
   "metadata": {},
   "source": [
    "***\n",
    "### Project Stories\n",
    "\n",
    "- app will be a posting/messaging app\n",
    "- users can create posts\n",
    "- users can see others' posts\n",
    "- users can edit/delete their own posts\n",
    "- app will contain multiple compomnents"
   ]
  },
  {
   "cell_type": "markdown",
   "metadata": {},
   "source": [
    "***\n",
    "### Tutorial Steps"
   ]
  },
  {
   "cell_type": "markdown",
   "metadata": {},
   "source": [
    "[05 - Installing Node & the Angular CLI 18:40](https://youtu.be/1tRLveSyNz8?t=1120)\n",
    "\n",
    "1. dev installs latest version of NodeJS on their device: https://nodejs.org/en/\n",
    "    - dev downloads installer\n",
    "    - dev runs installer\n",
    "- dev installs latest version of Angular command line interface: https://cli.angular.io/\n",
    "    - dev runs script to install Angular CLI from terminal: `npm install -g @angular/cli`\n",
    "        - note: adding `sudo` before `npm` may be necessary to add to the install command\n",
    "    - dev creates new Angular app: `ng new insert-your-app-name-here`\n",
    "    - dev opens new Angular app directory: `cd insert-your-app-name-here`\n",
    "    - dev builds & runs Angular app from their local host: `ng serve` \n",
    "- dev installs NPM (Node Package Manager) - this is included in the NodeJS installation"
   ]
  },
  {
   "cell_type": "markdown",
   "metadata": {},
   "source": [
    "[06 - Installing our IDE 26:34](https://youtu.be/1tRLveSyNz8?t=1594)\n",
    "\n",
    "1. dev installs an IDE on their device (such as Visual Studio Code) : https://code.visualstudio.com/\n",
    "    - the following items are optional:\n",
    "    - dev customizes their IDE with extensions to improve their dev experience\n",
    "    - dev installs extension \"angular essentials\"\n",
    "    - dev installs extension \"material icon theme\"\n",
    "    - dev configures their editor theme via menu `code > preferences > color theme`"
   ]
  },
  {
   "cell_type": "markdown",
   "metadata": {},
   "source": [
    "[07 - Exploring the Project Structure 29:53](https://youtu.be/1tRLveSyNz8?t=1793)\n",
    "\n",
    "1. dev opens up `insert-your-app-name-here` folder in their editor\n",
    "- dev edits `app.component.html` to test hot reload to be something simple like this:\n",
    "```HTML\n",
    "<h1>Our first App!</h1>\n",
    "```"
   ]
  },
  {
   "cell_type": "markdown",
   "metadata": {},
   "source": [
    "[08 - Course Outline 34:01](https://youtu.be/1tRLveSyNz8?t=2041)\n",
    "\n",
    "1. dev starts building Angular frontend\n",
    "- dev attaches NodeJS + Express backend\n",
    "- dev adds MongoDB database to fetch & store data (data handling)\n",
    "- dev enhances app to make it more \"realistic\" & \"better\"\n",
    "- dev adds image upload functionality to app (front & back ends)\n",
    "    - user can upload an image through Angular front end\n",
    "    - app will store through Node Express server into MongoDB database\n",
    "- dev adds pagination to app (to show selections of data at a time)\n",
    "- dev adds user authentication to add users, enable user log in\n",
    "- dev adds authorization to give specific users permission to edit/delete\n",
    "- dev adds error handling to app\n",
    "- dev adds further optimizations (front and back neds)\n",
    "- dev deploys their app in two different ways\n",
    "- dev is done, yay!"
   ]
  },
  {
   "cell_type": "markdown",
   "metadata": {},
   "source": [
    "[09 - How to get the most out of this course 37:32](https://youtu.be/1tRLveSyNz8?t=2252)\n",
    "\n",
    "1. watch the videos\n",
    "    - watch at your own preferred speed, pausing & rewinding as needed\n",
    "- code along\n",
    "- use the course resources\n",
    "    - the attached code & links\n",
    "- ask questions in the Q&A\n",
    "- help others in the Q&A (this is the best thing to do!)"
   ]
  },
  {
   "cell_type": "markdown",
   "metadata": {},
   "source": [
    "[10 - Module Introduction \"Building an Angular Frontend\" 40:30](https://youtu.be/1tRLveSyNz8?t=2430)\n",
    "\n",
    "[11 - Understanding the Folder Structure 42:15](https://youtu.be/1tRLveSyNz8?t=2535)\n",
    "\n",
    "[12 - Understanding Angular Components 48:59](https://youtu.be/1tRLveSyNz8?t=2939)\n",
    "\n",
    "1. dev starts app via the terminal command `ng serve`\n",
    "- dev confirms that app has started successfully by navigating to `localhost:4200` in their web browser of choice & sees the heading text `Our first app`\n",
    "- dev confirms app structure via `inspect html` browser feature\n",
    "- note: `main.ts` is reponsible for starting the app\n",
    "- note: components are loaded (and injected) into (or onto) the main page `index.html`. Components can comprised of content and/or logic.\n",
    "- q&a: What starts the Angular applicatin?\n",
    "> the main.ts file's bootstrapModule function"
   ]
  },
  {
   "cell_type": "markdown",
   "metadata": {},
   "source": [
    "[13 - Adding our First Component 51:43](https://youtu.be/1tRLveSyNz8?t=3103)\n",
    "\n",
    "1. dev adds a `posts` subfolder to the `src > app` folder\n",
    "- dev adds a `post-create` subfolder to the new `app > posts` subfolder\n",
    "- dev adds a `post-create.component.ts` file to this `posts > post-create` subfolder\n",
    "- dev adds a `post-create.component.html` template file in the same subfolder\n",
    "- dev writes a class inside of the `post-create.component.ts` file like so:\n",
    "\n",
    "```JS\n",
    "import { Component } from '@angular/core'; // component decorator must be imported\n",
    "\n",
    "// decorator takes configuration in the form of JSON\n",
    "// we use relative paths for template\n",
    "// selectors allow us to use components (this will become the tag)\n",
    "@Component({\n",
    "    selector: 'app-post-create',\n",
    "    templateUrl: './post-create.component.html'\n",
    "}) // we give the templateUrl a relative path // 'app-' naming convention helps avoid clashes with HTML elements\n",
    "export class PostCreateComponent {\n",
    "    // nothing needs to be added here\n",
    "}\n",
    "```\n",
    "\n",
    "6. dev adds the following line to `post-create.component.html`:\n",
    "```HTML\n",
    "<h2>The Post Create Component</h2>\n",
    "```\n",
    "- dev adds the following line to `app.component.html` just below the `h1` tags line:\n",
    "```HTML\n",
    "<app-post-create></app-post-create>\n",
    "```\n",
    "- dev confirms that app is not yet loading successfully\n",
    "\n",
    "- note: we must import new components into `app.module.ts`\n",
    "> angular cannot know something is a component unless it is registered in an Angular module\n",
    "\n",
    "- dev adds the following code to `app.module.ts`\n",
    "```JS\n",
    "import { PostCreateComponent} from './posts/post-create/post-create.component' // we omit the '.ts' for imports\n",
    "```\n",
    "\n",
    "- dev adds the following line to the same file underneath `AppComponent,`:\n",
    "```JS\n",
    "PostCreateComponent\n",
    "```\n",
    "- dev confirms in the browser that the errors have gone away and that the components render successfully"
   ]
  },
  {
   "cell_type": "markdown",
   "metadata": {},
   "source": [
    "[14 - Listening to Events 59:48](https://youtu.be/1tRLveSyNz8?t=3588)\n",
    "\n",
    "1. dev adds textarea to `post-create.component.html`: `<textarea rows=\"6\"></textarea>`\n",
    "- dev adds button below the textarea line of code: `<button>Save Post</button>`\n",
    "- dev adds line separator between textrea and button for aethetics: `<hr>`\n",
    "- dev confirms in the browser that while a textarea and button are now rendering, there is no interactivity/functionality. this is because there is no programming logic behind these components yet.\n",
    "- dev adds click listening through \"event binding\" to the button element like so:\n",
    "```html\n",
    "<button (click)=\"\">Save Post</button>\n",
    "```\n",
    "- dev adds new function to `post-create.component.ts` inside of `class PostCreateComponent`:\n",
    "```JS\n",
    "    onAddPost() {\n",
    "        alert('Post added!');\n",
    "    }\n",
    "```\n",
    "- dev returns to `post-create.component.html` and updates the button element code like so:\n",
    "```html\n",
    "<button (click)=\"onAddPost()\">Save Post</button>\n",
    "```\n",
    "- dev confirms that now, by returning to the browser and clicking the Save Post button that an alert appears"
   ]
  },
  {
   "cell_type": "markdown",
   "metadata": {},
   "source": [
    "[15 - Outputting Content 1:03:36](https://youtu.be/1tRLveSyNz8?t=3816)\n",
    "\n",
    "- dev modifies `PostCreateComponent` in `post-create.compomnent.ts` to be:\n",
    "```JS\n",
    "newPost = 'NO CONTENT';\n",
    "\n",
    "onAddPost() {\n",
    "    this.newPost = 'The user\\'s post';\n",
    "}\n",
    "```\n",
    "\n",
    "- dev adds to `post-create.component.html` the following:\n",
    "```html\n",
    "<p>{{ newPost }}</p>\n",
    "```\n",
    "\n",
    "- dev adds property binding to textarea in `post-create.component.html` like so:\n",
    "```html\n",
    "<textarea rows=\"6\" [value]=\"newPost\"></textarea>\n",
    "```"
   ]
  },
  {
   "cell_type": "markdown",
   "metadata": {},
   "source": [
    "[16 - Getting User Input 1:09:15](https://youtu.be/1tRLveSyNz8?t=4155)\n",
    "\n",
    "1. dev modifies by adding a \"local reference\" to `post-create.component.html`:\n",
    "```html\n",
    "<textarea rows=\"6\" [value]=\"newPost\" #postInput></textarea>\n",
    "<hr>\n",
    "<button (click)=\"onAddPost(postInput)\">Save Post</button>\n",
    "...\n",
    "```\n",
    "- add modifies class `PostCreateComponent` in `post-create.component.ts` like so:\n",
    "```JS\n",
    "export class PostCreateComponent {\n",
    "    newPost = 'NO CONTENT';\n",
    "\n",
    "    onAddPost(postInput: HTMLTextAreaElement) {\n",
    "        // we will get type completion now inside of Visual Studio Code, were we to type...\n",
    "        //postInput.\n",
    "        console.log(postInput);\n",
    "        this.newPost ='The user\\'s post';\n",
    "}\n",
    "```\n",
    "- dev confirms that an html element is returned in the developer's console inspection window in the browser\n",
    "- dev modifies `console.log(postInput)` to be `console.dir(postInput)`\n",
    "- dev now confirms that the entire html dom node can be inspected\n",
    "- dev modifies `onAddPost` function to have jsut this one line inside:\n",
    "```JS\n",
    "this.newPost = postInput.value;\n",
    "```\n",
    "- dev confirms that, upon saving their work & hot reloading the app in the browser that upon typing something in the text area (such as \"hello!\") and then clicking on the \"Save Post\" button that the text from the text area is accurately matched & updated down below the button. \n",
    "- note: this is just one way of getting values to and from elements\n",
    "- note: rather than using the way we just did (manually setting the value of the text area and getting a reference to it), we can use a technique called \"two way binding\" which combines the setting and getting of element values\n",
    "- dev updates the first line of `post-create.component.html` to be such:\n",
    "```html\n",
    "<textarea rows=\"6\" [(ngModel)]=\"enteredValue\"></textarea>\n",
    "```\n",
    "- dev add a new line above `newPost = 'NO CONTENT';` line in class `PostCreateComponent` in file `post-create.component.ts`:\n",
    "```js\n",
    "enteredValue = '';\n",
    "```\n",
    "- note: ngModel is an example of an angular directive, which needs to be bound to a property\n",
    "- note: ngModel doesn't come by default with the core angular boilerplate, so it must be imported manually\n",
    "- dev includes `FormsModule` underneath the `NgModule` import in `app.module.ts`:\n",
    "```js\n",
    "import { FormsModule } from '@angular/forms';\n",
    "```\n",
    "- dev adds `FormsModule` to imports under `BrowserModule` in the `@NgModule` of `app.module.ts`\n",
    "- dev updates `onAddPost()` function to be like so:\n",
    "```JS\n",
    "onAddPost() {\n",
    "    this.newPost = this.enteredValue\n",
    "}\n",
    "```\n",
    "- dev updates the `button` element back in `post-create.component.html` to not take any parameters like so:\n",
    "```html\n",
    "<button (click)=\"onAddPost()\">Save Post</button>\n",
    "```\n",
    "- dev confirms that, back in the browser after hot reloading, that the text area starts off initially with nothing and then, upon receiving text input and the \"save post\" button being clicked, that the \"NO CONTENT\" text below changes to the entered text value.\n",
    "- note: What was just done are the core template binding features in Angular\n"
   ]
  },
  {
   "cell_type": "markdown",
   "metadata": {},
   "source": [
    "[17 - Installing Angular Material 1:15:23](https://youtu.be/1tRLveSyNz8?t=4523)\n",
    "\n",
    "- note: the dev *could* use in the terminal the following command to install angular material: `npm install --save @angular/material` ... However, this would not configure a specific project to have angular material enabled\n",
    "- reminder: the following command is useful to update to the newest version of angular CLI: `npm install -g @angular/cli`\n",
    "1. dev stop the app server, & then runs the following command in the terminal while in the current project directory: `ng add @angular/material` (this installs the package *and* configure the project to use it)\n",
    "- note: there is more learning material on angular material on Max's (Maximilian Schwarzmüller) website\n",
    "- dev inspects `package.json` in the project's root folder to see the following dependencies included:\n",
    "    - \"@angular/material\": \"^6.0.2\" (styling)\n",
    "    - \"@angular/cdk\": \"^6.0.0\" (logic)\n",
    "- note: the default enabled theme can be changed in `angular.json` under `styles > input` to any one of the three others included in `node_modules > @angular > material > prebuilt-themes` (in the vide the choices are deeppurple-amber, indigo-pink, pink-bluegrey, & purple-green)\n",
    "- note: angular material also comes with material icons & the roboto font (weights 300, 400, & 500)\n",
    "- dev restarts the app server with the shell command `ng serve`\n",
    "- dev unlocks the necessary components, starting with the `MatInputModule` in `app.module.ts`:\n",
    "```JS\n",
    "import { MatInputModule } from '@angular/material';\n",
    "```\n",
    "- dev adds `MatInputModule` to the imports list as well in `@NgModule` in `imports` list\n",
    "- dev adds `matInput` attribute to `textarea` element (component?) in `post-create.component.html`\n",
    "- dev confirms that there is no visual change in the app by looking in the browser (at localhost:4200)\n",
    "- dev wraps `textarea` element with `<mat-form-field> </mat-form-field>` opening & closing tags\n",
    "- dev confirms back in the browser that angular material styling as been applied (it looks different than before)\n",
    "- dev includes `MatCardModule` as well to `app.module.ts` like so:\n",
    "```JS\n",
    "import { MatInputModule, MatCardModule } from '@angular/material';\n",
    "```\n",
    "- dev adds `MatCardModule` to the `imports` list below inside of the `@NgModule` (directive?)\n",
    "- dev wraps the `mat-form-field` element with `<mat-card> </mat-card>` opening & closing tags\n",
    "- dev adds a new file `post-create.component.css` to add custom styling\n",
    "- dev imports this new css file by editing the `@Component` (directive?) inside of `post-create.component.ts`, adding a line like so below `templateUrl`: `styleUrls: ['./post-create.component.css']`\n",
    "- dev adds new style to `post-create.component.css` like so:\n",
    "```css\n",
    "mat-card {\n",
    "    width: 80%;\n",
    "    margin: auto;\n",
    "}\n",
    "```\n",
    "- dev confirms by looking in the browser that the new styles have been successfully applied\n",
    "- dev adds a new style:\n",
    "```css\n",
    "mat-form-filed,\n",
    "textarea {\n",
    "    width: 100%;\n",
    "}\n",
    "```\n",
    "- dev moves the `button` element inside of `post-create.component.html` to be inside of the `mat-card` component just below (outside of) the `mat-form-field` component\n",
    "- dev removes the `hr` tag (element?)\n",
    "- dev includes the `MatButtonModule` back in `app.module.ts`. Remember to add it in two places:\n",
    "    - `import` statement from `@angular/material` at top of file\n",
    "    - `imports` list inside of `@NgModule`\n",
    "- dev adds the `mat-raised-button` (they could instead add `mat-button`) to the button element\n",
    "- note: looking at the API is a good way to know the styling options\n",
    "- dev adds `color=\"accent\"` to button to give it color\n",
    "- note: other color property options include `warn`,`accent`"
   ]
  },
  {
   "cell_type": "markdown",
   "metadata": {},
   "source": [
    "***\n",
    "### What is the MEAN Stack?\n",
    "\n",
    "- **MongoDB**: Persist user data\n",
    "    - Is a NoSQL database which stores \"Documents\" in \"Collections\" (instead of \"Records\" in \"Tables\" as in SQL)\n",
    "    - Stores application data (such as users, products, etc.)\n",
    "    - Enforces no data schema or relations\n",
    "    - Is easily connected to Node/Express (NOT to Angular)\n",
    "    - Enables the creation of a powerful database, which is flexible & scalable\n",
    "- **Express**: Framework for NodeJS\n",
    "    - Simplifies server-side code and logic\n",
    "    - Is based on NodeJS, & offers same functionalities\n",
    "    - Is Middleware-based, which means it funnels requests through functions\n",
    "    - Includes routing, view-rendering, & more\n",
    "    - In short, it simplifies the usage of NodeJS. Express is for Node in the way that Laravel would be for PHP.\n",
    "- **Angular**: Client side UI rendering technology, allows building of SPA\n",
    "    - Renders UI with dynamic data\n",
    "    - Handles user input\n",
    "    - Communicates with backend services\n",
    "    - Provides a mobile app-like user experience\n",
    "- **NodeJS**: Run server side logic, such as authenticating users\n",
    "    - Listens to requests and sends responses\n",
    "    - Executes server-side logic\n",
    "    - Interacts with databases and files\n",
    "    - Is an alternative to PHP, Ruby on Rails, Java etc. & is rarely use standalone\n",
    "    \n",
    "SPA: Single Page Application"
   ]
  },
  {
   "cell_type": "markdown",
   "metadata": {},
   "source": [
    "***\n",
    "### What is the MEAN Big Picture?\n",
    "\n",
    "We have two sides, the browser side & server side.\n",
    "\n",
    "![alt text](screenshot1.png)"
   ]
  },
  {
   "cell_type": "code",
   "execution_count": null,
   "metadata": {},
   "outputs": [],
   "source": []
  }
 ],
 "metadata": {
  "kernelspec": {
   "display_name": "Python 3",
   "language": "python",
   "name": "python3"
  },
  "language_info": {
   "codemirror_mode": {
    "name": "ipython",
    "version": 3
   },
   "file_extension": ".py",
   "mimetype": "text/x-python",
   "name": "python",
   "nbconvert_exporter": "python",
   "pygments_lexer": "ipython3",
   "version": "3.7.1"
  }
 },
 "nbformat": 4,
 "nbformat_minor": 2
}
